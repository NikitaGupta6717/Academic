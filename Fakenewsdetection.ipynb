{
  "nbformat": 4,
  "nbformat_minor": 0,
  "metadata": {
    "colab": {
      "provenance": [],
      "authorship_tag": "ABX9TyMGeaNzQeNTPYnbb5vkTjJU",
      "include_colab_link": true
    },
    "kernelspec": {
      "name": "python3",
      "display_name": "Python 3"
    },
    "language_info": {
      "name": "python"
    }
  },
  "cells": [
    {
      "cell_type": "markdown",
      "metadata": {
        "id": "view-in-github",
        "colab_type": "text"
      },
      "source": [
        "<a href=\"https://colab.research.google.com/github/NikitaGupta6717/Academic/blob/main/Fakenewsdetection.ipynb\" target=\"_parent\"><img src=\"https://colab.research.google.com/assets/colab-badge.svg\" alt=\"Open In Colab\"/></a>"
      ]
    },
    {
      "cell_type": "code",
      "execution_count": 1,
      "metadata": {
        "id": "MdrvQ5Bz7U1_"
      },
      "outputs": [],
      "source": [
        "# Import the necessary libraries\n",
        "import pandas as pd\n",
        "from sklearn.feature_extraction.text import TfidfVectorizer\n",
        "from sklearn.model_selection import train_test_split\n",
        "from sklearn.linear_model import LogisticRegression\n",
        "from sklearn.metrics import accuracy_score\n",
        "\n",
        "# Read the dataset\n",
        "df = pd.read_csv('/content/FakeNewsNet.csv')\n",
        "\n"
      ]
    },
    {
      "cell_type": "code",
      "source": [
        "df\n"
      ],
      "metadata": {
        "colab": {
          "base_uri": "https://localhost:8080/",
          "height": 424
        },
        "id": "E5ld8akG7vX7",
        "outputId": "f7f684ef-def7-40af-e17c-8d7cee9ff1c4"
      },
      "execution_count": 3,
      "outputs": [
        {
          "output_type": "execute_result",
          "data": {
            "text/plain": [
              "                                                   title  \\\n",
              "0      Kandi Burruss Explodes Over Rape Accusation on...   \n",
              "1      People's Choice Awards 2018: The best red carp...   \n",
              "2      Sophia Bush Sends Sweet Birthday Message to 'O...   \n",
              "3      Colombian singer Maluma sparks rumours of inap...   \n",
              "4      Gossip Girl 10 Years Later: How Upper East Sid...   \n",
              "...                                                  ...   \n",
              "23191  Pippa Middleton wedding: In case you missed it...   \n",
              "23192  Zayn Malik & Gigi Hadid’s Shocking Split: Why ...   \n",
              "23193  Jessica Chastain Recalls the Moment Her Mother...   \n",
              "23194  Tristan Thompson Feels \"Dumped\" After Khloé Ka...   \n",
              "23195  Kelly Clarkson Performs a Medley of Kendrick L...   \n",
              "\n",
              "                                                news_url  \\\n",
              "0      http://toofab.com/2017/05/08/real-housewives-a...   \n",
              "1      https://www.today.com/style/see-people-s-choic...   \n",
              "2      https://www.etonline.com/news/220806_sophia_bu...   \n",
              "3      https://www.dailymail.co.uk/news/article-33655...   \n",
              "4      https://www.zerchoo.com/entertainment/gossip-g...   \n",
              "...                                                  ...   \n",
              "23191  https://www.express.co.uk/news/royal/807049/pi...   \n",
              "23192  hollywoodlife.com/2018/03/13/zayn-malik-gigi-h...   \n",
              "23193  http://www.justjared.com/2018/01/17/jessica-ch...   \n",
              "23194  www.intouchweekly.com/posts/tristan-thompson-f...   \n",
              "23195  https://www.billboard.com/articles/news/bbma/8...   \n",
              "\n",
              "               source_domain  tweet_num  real  \n",
              "0                 toofab.com         42     1  \n",
              "1              www.today.com          0     1  \n",
              "2           www.etonline.com         63     1  \n",
              "3        www.dailymail.co.uk         20     1  \n",
              "4            www.zerchoo.com         38     1  \n",
              "...                      ...        ...   ...  \n",
              "23191      www.express.co.uk         52     1  \n",
              "23192      hollywoodlife.com          7     0  \n",
              "23193      www.justjared.com         26     1  \n",
              "23194  www.intouchweekly.com         24     0  \n",
              "23195      www.billboard.com         85     1  \n",
              "\n",
              "[23196 rows x 5 columns]"
            ],
            "text/html": [
              "\n",
              "  <div id=\"df-60ec2542-7308-4ec9-972f-d75bd3a33761\">\n",
              "    <div class=\"colab-df-container\">\n",
              "      <div>\n",
              "<style scoped>\n",
              "    .dataframe tbody tr th:only-of-type {\n",
              "        vertical-align: middle;\n",
              "    }\n",
              "\n",
              "    .dataframe tbody tr th {\n",
              "        vertical-align: top;\n",
              "    }\n",
              "\n",
              "    .dataframe thead th {\n",
              "        text-align: right;\n",
              "    }\n",
              "</style>\n",
              "<table border=\"1\" class=\"dataframe\">\n",
              "  <thead>\n",
              "    <tr style=\"text-align: right;\">\n",
              "      <th></th>\n",
              "      <th>title</th>\n",
              "      <th>news_url</th>\n",
              "      <th>source_domain</th>\n",
              "      <th>tweet_num</th>\n",
              "      <th>real</th>\n",
              "    </tr>\n",
              "  </thead>\n",
              "  <tbody>\n",
              "    <tr>\n",
              "      <th>0</th>\n",
              "      <td>Kandi Burruss Explodes Over Rape Accusation on...</td>\n",
              "      <td>http://toofab.com/2017/05/08/real-housewives-a...</td>\n",
              "      <td>toofab.com</td>\n",
              "      <td>42</td>\n",
              "      <td>1</td>\n",
              "    </tr>\n",
              "    <tr>\n",
              "      <th>1</th>\n",
              "      <td>People's Choice Awards 2018: The best red carp...</td>\n",
              "      <td>https://www.today.com/style/see-people-s-choic...</td>\n",
              "      <td>www.today.com</td>\n",
              "      <td>0</td>\n",
              "      <td>1</td>\n",
              "    </tr>\n",
              "    <tr>\n",
              "      <th>2</th>\n",
              "      <td>Sophia Bush Sends Sweet Birthday Message to 'O...</td>\n",
              "      <td>https://www.etonline.com/news/220806_sophia_bu...</td>\n",
              "      <td>www.etonline.com</td>\n",
              "      <td>63</td>\n",
              "      <td>1</td>\n",
              "    </tr>\n",
              "    <tr>\n",
              "      <th>3</th>\n",
              "      <td>Colombian singer Maluma sparks rumours of inap...</td>\n",
              "      <td>https://www.dailymail.co.uk/news/article-33655...</td>\n",
              "      <td>www.dailymail.co.uk</td>\n",
              "      <td>20</td>\n",
              "      <td>1</td>\n",
              "    </tr>\n",
              "    <tr>\n",
              "      <th>4</th>\n",
              "      <td>Gossip Girl 10 Years Later: How Upper East Sid...</td>\n",
              "      <td>https://www.zerchoo.com/entertainment/gossip-g...</td>\n",
              "      <td>www.zerchoo.com</td>\n",
              "      <td>38</td>\n",
              "      <td>1</td>\n",
              "    </tr>\n",
              "    <tr>\n",
              "      <th>...</th>\n",
              "      <td>...</td>\n",
              "      <td>...</td>\n",
              "      <td>...</td>\n",
              "      <td>...</td>\n",
              "      <td>...</td>\n",
              "    </tr>\n",
              "    <tr>\n",
              "      <th>23191</th>\n",
              "      <td>Pippa Middleton wedding: In case you missed it...</td>\n",
              "      <td>https://www.express.co.uk/news/royal/807049/pi...</td>\n",
              "      <td>www.express.co.uk</td>\n",
              "      <td>52</td>\n",
              "      <td>1</td>\n",
              "    </tr>\n",
              "    <tr>\n",
              "      <th>23192</th>\n",
              "      <td>Zayn Malik &amp; Gigi Hadid’s Shocking Split: Why ...</td>\n",
              "      <td>hollywoodlife.com/2018/03/13/zayn-malik-gigi-h...</td>\n",
              "      <td>hollywoodlife.com</td>\n",
              "      <td>7</td>\n",
              "      <td>0</td>\n",
              "    </tr>\n",
              "    <tr>\n",
              "      <th>23193</th>\n",
              "      <td>Jessica Chastain Recalls the Moment Her Mother...</td>\n",
              "      <td>http://www.justjared.com/2018/01/17/jessica-ch...</td>\n",
              "      <td>www.justjared.com</td>\n",
              "      <td>26</td>\n",
              "      <td>1</td>\n",
              "    </tr>\n",
              "    <tr>\n",
              "      <th>23194</th>\n",
              "      <td>Tristan Thompson Feels \"Dumped\" After Khloé Ka...</td>\n",
              "      <td>www.intouchweekly.com/posts/tristan-thompson-f...</td>\n",
              "      <td>www.intouchweekly.com</td>\n",
              "      <td>24</td>\n",
              "      <td>0</td>\n",
              "    </tr>\n",
              "    <tr>\n",
              "      <th>23195</th>\n",
              "      <td>Kelly Clarkson Performs a Medley of Kendrick L...</td>\n",
              "      <td>https://www.billboard.com/articles/news/bbma/8...</td>\n",
              "      <td>www.billboard.com</td>\n",
              "      <td>85</td>\n",
              "      <td>1</td>\n",
              "    </tr>\n",
              "  </tbody>\n",
              "</table>\n",
              "<p>23196 rows × 5 columns</p>\n",
              "</div>\n",
              "      <button class=\"colab-df-convert\" onclick=\"convertToInteractive('df-60ec2542-7308-4ec9-972f-d75bd3a33761')\"\n",
              "              title=\"Convert this dataframe to an interactive table.\"\n",
              "              style=\"display:none;\">\n",
              "        \n",
              "  <svg xmlns=\"http://www.w3.org/2000/svg\" height=\"24px\"viewBox=\"0 0 24 24\"\n",
              "       width=\"24px\">\n",
              "    <path d=\"M0 0h24v24H0V0z\" fill=\"none\"/>\n",
              "    <path d=\"M18.56 5.44l.94 2.06.94-2.06 2.06-.94-2.06-.94-.94-2.06-.94 2.06-2.06.94zm-11 1L8.5 8.5l.94-2.06 2.06-.94-2.06-.94L8.5 2.5l-.94 2.06-2.06.94zm10 10l.94 2.06.94-2.06 2.06-.94-2.06-.94-.94-2.06-.94 2.06-2.06.94z\"/><path d=\"M17.41 7.96l-1.37-1.37c-.4-.4-.92-.59-1.43-.59-.52 0-1.04.2-1.43.59L10.3 9.45l-7.72 7.72c-.78.78-.78 2.05 0 2.83L4 21.41c.39.39.9.59 1.41.59.51 0 1.02-.2 1.41-.59l7.78-7.78 2.81-2.81c.8-.78.8-2.07 0-2.86zM5.41 20L4 18.59l7.72-7.72 1.47 1.35L5.41 20z\"/>\n",
              "  </svg>\n",
              "      </button>\n",
              "      \n",
              "  <style>\n",
              "    .colab-df-container {\n",
              "      display:flex;\n",
              "      flex-wrap:wrap;\n",
              "      gap: 12px;\n",
              "    }\n",
              "\n",
              "    .colab-df-convert {\n",
              "      background-color: #E8F0FE;\n",
              "      border: none;\n",
              "      border-radius: 50%;\n",
              "      cursor: pointer;\n",
              "      display: none;\n",
              "      fill: #1967D2;\n",
              "      height: 32px;\n",
              "      padding: 0 0 0 0;\n",
              "      width: 32px;\n",
              "    }\n",
              "\n",
              "    .colab-df-convert:hover {\n",
              "      background-color: #E2EBFA;\n",
              "      box-shadow: 0px 1px 2px rgba(60, 64, 67, 0.3), 0px 1px 3px 1px rgba(60, 64, 67, 0.15);\n",
              "      fill: #174EA6;\n",
              "    }\n",
              "\n",
              "    [theme=dark] .colab-df-convert {\n",
              "      background-color: #3B4455;\n",
              "      fill: #D2E3FC;\n",
              "    }\n",
              "\n",
              "    [theme=dark] .colab-df-convert:hover {\n",
              "      background-color: #434B5C;\n",
              "      box-shadow: 0px 1px 3px 1px rgba(0, 0, 0, 0.15);\n",
              "      filter: drop-shadow(0px 1px 2px rgba(0, 0, 0, 0.3));\n",
              "      fill: #FFFFFF;\n",
              "    }\n",
              "  </style>\n",
              "\n",
              "      <script>\n",
              "        const buttonEl =\n",
              "          document.querySelector('#df-60ec2542-7308-4ec9-972f-d75bd3a33761 button.colab-df-convert');\n",
              "        buttonEl.style.display =\n",
              "          google.colab.kernel.accessAllowed ? 'block' : 'none';\n",
              "\n",
              "        async function convertToInteractive(key) {\n",
              "          const element = document.querySelector('#df-60ec2542-7308-4ec9-972f-d75bd3a33761');\n",
              "          const dataTable =\n",
              "            await google.colab.kernel.invokeFunction('convertToInteractive',\n",
              "                                                     [key], {});\n",
              "          if (!dataTable) return;\n",
              "\n",
              "          const docLinkHtml = 'Like what you see? Visit the ' +\n",
              "            '<a target=\"_blank\" href=https://colab.research.google.com/notebooks/data_table.ipynb>data table notebook</a>'\n",
              "            + ' to learn more about interactive tables.';\n",
              "          element.innerHTML = '';\n",
              "          dataTable['output_type'] = 'display_data';\n",
              "          await google.colab.output.renderOutput(dataTable, element);\n",
              "          const docLink = document.createElement('div');\n",
              "          docLink.innerHTML = docLinkHtml;\n",
              "          element.appendChild(docLink);\n",
              "        }\n",
              "      </script>\n",
              "    </div>\n",
              "  </div>\n",
              "  "
            ]
          },
          "metadata": {},
          "execution_count": 3
        }
      ]
    },
    {
      "cell_type": "code",
      "source": [
        "df.dropna(inplace=True)\n",
        "\n"
      ],
      "metadata": {
        "id": "VNog4_Zg7vgC"
      },
      "execution_count": 6,
      "outputs": []
    },
    {
      "cell_type": "code",
      "source": [
        "# Split the dataset into training and testing sets\n",
        "X_train, X_test, y_train, y_test = train_test_split(df['source_domain'], df['real'], test_size=0.2, random_state=42)\n"
      ],
      "metadata": {
        "id": "HVGao0Lg9DqY"
      },
      "execution_count": 7,
      "outputs": []
    },
    {
      "cell_type": "code",
      "source": [
        "# Create a TF-IDF vectorizer\n",
        "vectorizer = TfidfVectorizer()"
      ],
      "metadata": {
        "id": "gu1G4uE-9Dvp"
      },
      "execution_count": 8,
      "outputs": []
    },
    {
      "cell_type": "code",
      "source": [
        "# Convert the text data to TF-IDF features\n",
        "X_train = vectorizer.fit_transform(X_train)\n",
        "X_test = vectorizer.transform(X_test)\n"
      ],
      "metadata": {
        "id": "mlFpEVBJ9Dzw"
      },
      "execution_count": 9,
      "outputs": []
    },
    {
      "cell_type": "code",
      "source": [
        "# Create a logistic regression model\n",
        "model = LogisticRegression()"
      ],
      "metadata": {
        "id": "w0A_OwV29D2s"
      },
      "execution_count": 10,
      "outputs": []
    },
    {
      "cell_type": "code",
      "source": [
        "# Train the model\n",
        "model.fit(X_train, y_train)"
      ],
      "metadata": {
        "id": "TWGB0KSZ9D8Y"
      },
      "execution_count": null,
      "outputs": []
    },
    {
      "cell_type": "code",
      "source": [
        "# Make predictions on the test set\n",
        "y_pred = model.predict(X_test)\n"
      ],
      "metadata": {
        "id": "OLnHV6C09PYM"
      },
      "execution_count": 12,
      "outputs": []
    },
    {
      "cell_type": "code",
      "source": [
        "# Calculate the accuracy of the model\n",
        "accuracy = accuracy_score(y_test, y_pred)\n",
        "print(\"Accuracy:\", accuracy)"
      ],
      "metadata": {
        "colab": {
          "base_uri": "https://localhost:8080/"
        },
        "id": "9pZiyW639Pa2",
        "outputId": "8f45257c-1c3b-4cd8-a5c4-f57a871b6c0f"
      },
      "execution_count": 13,
      "outputs": [
        {
          "output_type": "stream",
          "name": "stdout",
          "text": [
            "Accuracy: 0.8237866200262353\n"
          ]
        }
      ]
    },
    {
      "cell_type": "code",
      "source": [],
      "metadata": {
        "id": "jkHjcK5N9Py0"
      },
      "execution_count": null,
      "outputs": []
    }
  ]
}